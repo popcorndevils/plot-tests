{
 "cells": [
  {
   "cell_type": "code",
   "execution_count": 1,
   "id": "073399c1-a74a-4ad1-be84-3cfa5bed2b3e",
   "metadata": {},
   "outputs": [],
   "source": [
    "import test_plot as tp"
   ]
  },
  {
   "cell_type": "code",
   "execution_count": 2,
   "id": "2b0b0983-b181-49c1-aee4-f5f0b8ee31ca",
   "metadata": {},
   "outputs": [],
   "source": [
    "app = tp.Plotter()"
   ]
  },
  {
   "cell_type": "code",
   "execution_count": 3,
   "id": "b162a23b-e21c-4370-87cc-d9ac01e0c5ac",
   "metadata": {},
   "outputs": [
    {
     "data": {
      "application/vnd.jupyter.widget-view+json": {
       "model_id": "a615b44c18c04ccaad029596f6c648ba",
       "version_major": 2,
       "version_minor": 0
      },
      "text/plain": [
       "Output()"
      ]
     },
     "metadata": {},
     "output_type": "display_data"
    }
   ],
   "source": [
    "app.run()"
   ]
  }
 ],
 "metadata": {
  "kernelspec": {
   "display_name": "Python 3 (ipykernel)",
   "language": "python",
   "name": "python3"
  },
  "language_info": {
   "codemirror_mode": {
    "name": "ipython",
    "version": 3
   },
   "file_extension": ".py",
   "mimetype": "text/x-python",
   "name": "python",
   "nbconvert_exporter": "python",
   "pygments_lexer": "ipython3",
   "version": "3.10.0"
  }
 },
 "nbformat": 4,
 "nbformat_minor": 5
}
